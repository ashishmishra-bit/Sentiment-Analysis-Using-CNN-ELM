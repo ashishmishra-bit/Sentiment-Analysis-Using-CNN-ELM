{
 "cells": [
  {
   "cell_type": "code",
   "execution_count": 53,
   "id": "4a034be8",
   "metadata": {},
   "outputs": [],
   "source": [
    "import numpy as np\n",
    "import os\n",
    "from skimage.io import imread\n",
    "from skimage.transform import resize\n",
    "from skimage.color import gray2rgb\n",
    "from tensorflow import keras\n",
    "import pandas as pd\n",
    "from tensorflow.keras.datasets import mnist\n",
    "from tensorflow.keras.utils import to_categorical\n",
    "from matplotlib import pyplot as plt\n",
    "import random\n",
    "from model import ELM\n",
    "from keras import utils as np_utils"
   ]
  },
  {
   "cell_type": "code",
   "execution_count": 54,
   "id": "7590bb31",
   "metadata": {},
   "outputs": [],
   "source": [
    "dim=(256,256)\n",
    "imageShape = (dim[0],dim[1],3)\n",
    "numClasses = 2\n",
    "batchSize = 10\n",
    "epochs = 1\n",
    "folderWithPics='twitter'\n",
    "dirs=os.listdir('./'+folderWithPics)\n",
    "clsLabels=pd.read_csv('./'+folderWithPics+'/groundTruthLabel.txt',delimiter='\\t')\n",
    "clsLabels.index=clsLabels.index+1\n",
    "subDirPath=[('./'+folderWithPics+'/'+di) for di in dirs if('txt' not in di)]\n",
    "allImagesTrainPath=[(si+'/'+ii) for si in subDirPath[:-1] for ii in os.listdir(si) if('jpg' in ii)]\n",
    "allImagesTestPath=[(si+'/'+ii) for si in [subDirPath[-1]] for ii in os.listdir(si) if('jpg' in ii)]"
   ]
  },
  {
   "cell_type": "code",
   "execution_count": 55,
   "id": "b3e20aaa",
   "metadata": {},
   "outputs": [],
   "source": [
    "def formImageSet(allImagesFoldrPath,dim,clsLabels):\n",
    "    x_imageSet=np.empty((len(allImagesFoldrPath),dim[0],dim[1],3))\n",
    "    y_Set=np.empty((len(allImagesFoldrPath),1))\n",
    "    for im in range(len(allImagesFoldrPath)):\n",
    "        readImage=imread(allImagesFoldrPath[im])\n",
    "        \n",
    "        imNum=int(allImagesFoldrPath[im].split('/')[-1].split('.')[0])\n",
    "        actualClass=clsLabels.loc[imNum][1]\n",
    "        \n",
    "        if (actualClass=='positive'):\n",
    "            y_Set[im]=1\n",
    "        else:\n",
    "            y_Set[im]=0\n",
    "            \n",
    "        if (len(readImage.shape)>=3):\n",
    "            if readImage.shape[2]>3:\n",
    "                readImage=readImage[:,:,:3]            \n",
    "        else:\n",
    "            print(im,readImage.shape)\n",
    "            readImage=gray2rgb(readImage)            \n",
    "        readImage=resize(readImage,dim)\n",
    "        x_imageSet[im]=readImage\n",
    "    return x_imageSet,y_Set"
   ]
  },
  {
   "cell_type": "code",
   "execution_count": 56,
   "id": "53314356",
   "metadata": {},
   "outputs": [],
   "source": [
    "num_classes = 10\n",
    "num_hidden_layers = 512\n",
    "input_length = 28**2"
   ]
  },
  {
   "cell_type": "code",
   "execution_count": 61,
   "id": "0668196d",
   "metadata": {},
   "outputs": [],
   "source": [
    "def prepareDataSet():\n",
    "    xTrainImSet,yTrainSet=formImageSet(allImagesTrainPath,dim,clsLabels)\n",
    "    xTestImSet,yTestSet=formImageSet(allImagesTestPath,dim,clsLabels)\n",
    "    \n",
    "    xTrainImSet= xTrainImSet.astype('float32')\n",
    "    xTestImSet= xTestImSet.astype('float32')\n",
    "    xTrainImSet /= 255.0\n",
    "    xTestImSet /= 255.0\n",
    "\n",
    "    yTrainSet= keras.utils.to_categorical(yTrainSet, numClasses)\n",
    "    yTestSet= keras.utils.to_categorical(yTestSet, numClasses)\n",
    "    \n",
    "    print('Train Dataset size: ', xTrainImSet.shape[0])\n",
    "    print('Test Dataset size: ', yTestSet.shape[0])\n",
    "    \n",
    "    return (xTrainImSet,yTrainSet), (xTestImSet,yTestSet)"
   ]
  },
  {
   "cell_type": "code",
   "execution_count": 62,
   "id": "8fd3759b",
   "metadata": {},
   "outputs": [
    {
     "name": "stdout",
     "output_type": "stream",
     "text": [
      "Prepare data set...\n",
      "245 (277, 500)\n",
      "Train Dataset size:  482\n",
      "Test Dataset size:  121\n"
     ]
    }
   ],
   "source": [
    "print('Prepare data set...')\n",
    "(xTrainImSet,yTrainSet), (xTestImSet,yTestSet) = prepareDataSet()"
   ]
  },
  {
   "cell_type": "code",
   "execution_count": 65,
   "id": "9c49a517",
   "metadata": {},
   "outputs": [
    {
     "name": "stdout",
     "output_type": "stream",
     "text": [
      "Bias shape: (512,)\n",
      "W shape: (784, 512)\n",
      "Beta shape: (512, 2)\n"
     ]
    }
   ],
   "source": [
    "model = ELM(\n",
    "    input_length,\n",
    "    num_hidden_layers,\n",
    "    numClasses\n",
    ")"
   ]
  },
  {
   "cell_type": "code",
   "execution_count": 69,
   "id": "91dab488",
   "metadata": {},
   "outputs": [
    {
     "ename": "ValueError",
     "evalue": "shapes (482,256,256,3) and (784,512) not aligned: 3 (dim 3) != 784 (dim 0)",
     "output_type": "error",
     "traceback": [
      "\u001b[0;31m---------------------------------------------------------------------------\u001b[0m",
      "\u001b[0;31mValueError\u001b[0m                                Traceback (most recent call last)",
      "\u001b[0;32m<ipython-input-69-1d68d5522913>\u001b[0m in \u001b[0;36m<module>\u001b[0;34m\u001b[0m\n\u001b[1;32m      1\u001b[0m \u001b[0;31m# Train\u001b[0m\u001b[0;34m\u001b[0m\u001b[0;34m\u001b[0m\u001b[0;34m\u001b[0m\u001b[0m\n\u001b[0;32m----> 2\u001b[0;31m \u001b[0mmodel\u001b[0m\u001b[0;34m.\u001b[0m\u001b[0mfit\u001b[0m\u001b[0;34m(\u001b[0m\u001b[0mxTrainImSet\u001b[0m\u001b[0;34m,\u001b[0m \u001b[0myTrainSet\u001b[0m\u001b[0;34m,\u001b[0m \u001b[0mdisplay_time\u001b[0m\u001b[0;34m=\u001b[0m\u001b[0;32mTrue\u001b[0m\u001b[0;34m)\u001b[0m\u001b[0;34m\u001b[0m\u001b[0;34m\u001b[0m\u001b[0m\n\u001b[0m\u001b[1;32m      3\u001b[0m \u001b[0mtrain_loss\u001b[0m\u001b[0;34m,\u001b[0m \u001b[0mtrain_acc\u001b[0m \u001b[0;34m=\u001b[0m \u001b[0mmodel\u001b[0m\u001b[0;34m.\u001b[0m\u001b[0mevaluate\u001b[0m\u001b[0;34m(\u001b[0m\u001b[0mxTrainImSet\u001b[0m\u001b[0;34m,\u001b[0m \u001b[0myTrainSet\u001b[0m\u001b[0;34m)\u001b[0m\u001b[0;34m\u001b[0m\u001b[0;34m\u001b[0m\u001b[0m\n\u001b[1;32m      4\u001b[0m \u001b[0mprint\u001b[0m\u001b[0;34m(\u001b[0m\u001b[0;34m'train loss: %f'\u001b[0m \u001b[0;34m%\u001b[0m \u001b[0mtrain_loss\u001b[0m\u001b[0;34m)\u001b[0m\u001b[0;34m\u001b[0m\u001b[0;34m\u001b[0m\u001b[0m\n\u001b[1;32m      5\u001b[0m \u001b[0mprint\u001b[0m\u001b[0;34m(\u001b[0m\u001b[0;34m'train acc: %f'\u001b[0m \u001b[0;34m%\u001b[0m \u001b[0mtrain_acc\u001b[0m\u001b[0;34m)\u001b[0m\u001b[0;34m\u001b[0m\u001b[0;34m\u001b[0m\u001b[0m\n",
      "\u001b[0;32m~/Desktop/Research/model.py\u001b[0m in \u001b[0;36mfit\u001b[0;34m(self, X, Y, display_time)\u001b[0m\n\u001b[1;32m     72\u001b[0m \u001b[0;34m\u001b[0m\u001b[0m\n\u001b[1;32m     73\u001b[0m     \u001b[0;32mdef\u001b[0m \u001b[0mfit\u001b[0m\u001b[0;34m(\u001b[0m\u001b[0mself\u001b[0m\u001b[0;34m,\u001b[0m \u001b[0mX\u001b[0m\u001b[0;34m,\u001b[0m \u001b[0mY\u001b[0m\u001b[0;34m,\u001b[0m \u001b[0mdisplay_time\u001b[0m\u001b[0;34m=\u001b[0m\u001b[0;32mFalse\u001b[0m\u001b[0;34m)\u001b[0m\u001b[0;34m:\u001b[0m\u001b[0;34m\u001b[0m\u001b[0;34m\u001b[0m\u001b[0m\n\u001b[0;32m---> 74\u001b[0;31m         \u001b[0mH\u001b[0m \u001b[0;34m=\u001b[0m \u001b[0mself\u001b[0m\u001b[0;34m.\u001b[0m\u001b[0m_activation\u001b[0m\u001b[0;34m(\u001b[0m\u001b[0mX\u001b[0m\u001b[0;34m.\u001b[0m\u001b[0mdot\u001b[0m\u001b[0;34m(\u001b[0m\u001b[0mself\u001b[0m\u001b[0;34m.\u001b[0m\u001b[0m_w\u001b[0m\u001b[0;34m)\u001b[0m \u001b[0;34m+\u001b[0m \u001b[0mself\u001b[0m\u001b[0;34m.\u001b[0m\u001b[0m_bias\u001b[0m\u001b[0;34m)\u001b[0m\u001b[0;34m\u001b[0m\u001b[0;34m\u001b[0m\u001b[0m\n\u001b[0m\u001b[1;32m     75\u001b[0m \u001b[0;34m\u001b[0m\u001b[0m\n\u001b[1;32m     76\u001b[0m         \u001b[0;31m# Moore–Penrose pseudo inverse\u001b[0m\u001b[0;34m\u001b[0m\u001b[0;34m\u001b[0m\u001b[0;34m\u001b[0m\u001b[0m\n",
      "\u001b[0;31mValueError\u001b[0m: shapes (482,256,256,3) and (784,512) not aligned: 3 (dim 3) != 784 (dim 0)"
     ]
    }
   ],
   "source": [
    "# Train\n",
    "model.fit(xTrainImSet, yTrainSet, display_time=True)\n",
    "train_loss, train_acc = model.evaluate(xTrainImSet, yTrainSet)\n",
    "print('train loss: %f' % train_loss)\n",
    "print('train acc: %f' % train_acc)"
   ]
  },
  {
   "cell_type": "code",
   "execution_count": 68,
   "id": "14c6b396",
   "metadata": {},
   "outputs": [
    {
     "ename": "ValueError",
     "evalue": "operands could not be broadcast together with shapes (10000,) (10000,2) ",
     "output_type": "error",
     "traceback": [
      "\u001b[0;31m---------------------------------------------------------------------------\u001b[0m",
      "\u001b[0;31mValueError\u001b[0m                                Traceback (most recent call last)",
      "\u001b[0;32m<ipython-input-68-5068b604d524>\u001b[0m in \u001b[0;36m<module>\u001b[0;34m\u001b[0m\n\u001b[1;32m      1\u001b[0m \u001b[0;31m# Validation\u001b[0m\u001b[0;34m\u001b[0m\u001b[0;34m\u001b[0m\u001b[0;34m\u001b[0m\u001b[0m\n\u001b[0;32m----> 2\u001b[0;31m \u001b[0mval_loss\u001b[0m\u001b[0;34m,\u001b[0m \u001b[0mval_acc\u001b[0m \u001b[0;34m=\u001b[0m \u001b[0mmodel\u001b[0m\u001b[0;34m.\u001b[0m\u001b[0mevaluate\u001b[0m\u001b[0;34m(\u001b[0m\u001b[0mx_test\u001b[0m\u001b[0;34m,\u001b[0m \u001b[0my_test\u001b[0m\u001b[0;34m)\u001b[0m\u001b[0;34m\u001b[0m\u001b[0;34m\u001b[0m\u001b[0m\n\u001b[0m\u001b[1;32m      3\u001b[0m \u001b[0mprint\u001b[0m\u001b[0;34m(\u001b[0m\u001b[0;34m'val loss: %f'\u001b[0m \u001b[0;34m%\u001b[0m \u001b[0mval_loss\u001b[0m\u001b[0;34m)\u001b[0m\u001b[0;34m\u001b[0m\u001b[0;34m\u001b[0m\u001b[0m\n\u001b[1;32m      4\u001b[0m \u001b[0mprint\u001b[0m\u001b[0;34m(\u001b[0m\u001b[0;34m'val acc: %f'\u001b[0m \u001b[0;34m%\u001b[0m \u001b[0mval_acc\u001b[0m\u001b[0;34m)\u001b[0m\u001b[0;34m\u001b[0m\u001b[0;34m\u001b[0m\u001b[0m\n",
      "\u001b[0;32m~/Desktop/Research/model.py\u001b[0m in \u001b[0;36mevaluate\u001b[0;34m(self, X, Y)\u001b[0m\n\u001b[1;32m     94\u001b[0m \u001b[0;34m\u001b[0m\u001b[0m\n\u001b[1;32m     95\u001b[0m         \u001b[0;31m# Loss (base on model setting)\u001b[0m\u001b[0;34m\u001b[0m\u001b[0;34m\u001b[0m\u001b[0;34m\u001b[0m\u001b[0m\n\u001b[0;32m---> 96\u001b[0;31m         \u001b[0mloss\u001b[0m \u001b[0;34m=\u001b[0m \u001b[0mself\u001b[0m\u001b[0;34m.\u001b[0m\u001b[0m_loss\u001b[0m\u001b[0;34m(\u001b[0m\u001b[0mY\u001b[0m\u001b[0;34m,\u001b[0m \u001b[0mpred\u001b[0m\u001b[0;34m)\u001b[0m\u001b[0;34m\u001b[0m\u001b[0;34m\u001b[0m\u001b[0m\n\u001b[0m\u001b[1;32m     97\u001b[0m \u001b[0;34m\u001b[0m\u001b[0m\n\u001b[1;32m     98\u001b[0m         \u001b[0;31m# Accuracy\u001b[0m\u001b[0;34m\u001b[0m\u001b[0;34m\u001b[0m\u001b[0;34m\u001b[0m\u001b[0m\n",
      "\u001b[0;32m~/Desktop/Research/model.py\u001b[0m in \u001b[0;36m_mean_squared_error\u001b[0;34m(y, pred)\u001b[0m\n\u001b[1;32m      4\u001b[0m \u001b[0;34m\u001b[0m\u001b[0m\n\u001b[1;32m      5\u001b[0m \u001b[0;32mdef\u001b[0m \u001b[0m_mean_squared_error\u001b[0m\u001b[0;34m(\u001b[0m\u001b[0my\u001b[0m\u001b[0;34m,\u001b[0m \u001b[0mpred\u001b[0m\u001b[0;34m)\u001b[0m\u001b[0;34m:\u001b[0m\u001b[0;34m\u001b[0m\u001b[0;34m\u001b[0m\u001b[0m\n\u001b[0;32m----> 6\u001b[0;31m     \u001b[0;32mreturn\u001b[0m \u001b[0;36m0.5\u001b[0m \u001b[0;34m*\u001b[0m \u001b[0mnp\u001b[0m\u001b[0;34m.\u001b[0m\u001b[0mmean\u001b[0m\u001b[0;34m(\u001b[0m\u001b[0;34m(\u001b[0m\u001b[0my\u001b[0m \u001b[0;34m-\u001b[0m \u001b[0mpred\u001b[0m\u001b[0;34m)\u001b[0m \u001b[0;34m**\u001b[0m \u001b[0;36m2\u001b[0m\u001b[0;34m)\u001b[0m\u001b[0;34m\u001b[0m\u001b[0;34m\u001b[0m\u001b[0m\n\u001b[0m\u001b[1;32m      7\u001b[0m \u001b[0;34m\u001b[0m\u001b[0m\n\u001b[1;32m      8\u001b[0m \u001b[0;34m\u001b[0m\u001b[0m\n",
      "\u001b[0;31mValueError\u001b[0m: operands could not be broadcast together with shapes (10000,) (10000,2) "
     ]
    }
   ],
   "source": [
    "# Validation\n",
    "val_loss, val_acc = model.evaluate(x_test, y_test)\n",
    "print('val loss: %f' % val_loss)\n",
    "print('val acc: %f' % val_acc)"
   ]
  },
  {
   "cell_type": "code",
   "execution_count": 59,
   "id": "9409425a",
   "metadata": {},
   "outputs": [
    {
     "data": {
      "image/png": "[encoded data removed]",
      "text/plain": [
       "<Figure size 1332x756 with 5 Axes>"
      ]
     },
     "metadata": {
      "needs_background": "light"
     },
     "output_type": "display_data"
    }
   ],
   "source": [
    "# Predictions\n",
    "test_data = x_test[np.random.choice(len(x_test), size=5, replace=False)]\n",
    "predictions = model(test_data)\n",
    "\n",
    "fig, axs = plt.subplots(1, 5)\n",
    "fig.set_size_inches(18.5, 10.5)\n",
    "for idx, image in enumerate(test_data):\n",
    "    image = np.array(image, dtype='float')\n",
    "    pixels = image.reshape((28, 28))\n",
    "    axs[idx].imshow(pixels, cmap='gray')\n",
    "    axs[idx].axes.get_yaxis().set_visible(False)\n",
    "    axs[idx].title.set_text(f'Predicted {np.argmax(predictions[idx])}')\n",
    "    axs[idx].set_xlabel(f'With prob: {str(round(np.max(predictions[idx]), 2))}')\n",
    "    \n",
    "    \n",
    "plt.show()"
   ]
  },
  {
   "cell_type": "code",
   "execution_count": null,
   "id": "8235cc51",
   "metadata": {},
   "outputs": [],
   "source": []
  }
 ],
 "metadata": {
  "kernelspec": {
   "display_name": "Python 3",
   "language": "python",
   "name": "python3"
  },
  "language_info": {
   "codemirror_mode": {
    "name": "ipython",
    "version": 3
   },
   "file_extension": ".py",
   "mimetype": "text/x-python",
   "name": "python",
   "nbconvert_exporter": "python",
   "pygments_lexer": "ipython3",
   "version": "3.8.8"
  }
 },
 "nbformat": 4,
 "nbformat_minor": 5
}
